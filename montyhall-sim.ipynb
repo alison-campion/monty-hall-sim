{
 "cells": [
  {
   "cell_type": "code",
   "execution_count": 1,
   "id": "bd1b7ed5",
   "metadata": {},
   "outputs": [],
   "source": [
    "import random\n",
    "import numpy as np\n",
    "import pandas as pd\n",
    "from collections import Counter\n",
    "\n",
    "from utils import fill_doors, door_reveal, identify_result, random_choice"
   ]
  },
  {
   "cell_type": "code",
   "execution_count": 2,
   "id": "1ba5f62c",
   "metadata": {},
   "outputs": [],
   "source": [
    "# set number of doors and create a list of n doors\n",
    "n = 3\n",
    "doorlist = list(np.arange(1, n+1))\n",
    "\n",
    "# set number of iterations\n",
    "N = 1000"
   ]
  },
  {
   "cell_type": "markdown",
   "id": "eb841f38",
   "metadata": {},
   "source": [
    "### Part 1: Set-up"
   ]
  },
  {
   "cell_type": "markdown",
   "id": "82f4957a",
   "metadata": {},
   "source": [
    "#### i. Initiate all doors\n",
    "Create a dataframe that has N sets of n doors, each door with either a goat or a car behind it."
   ]
  },
  {
   "cell_type": "code",
   "execution_count": 3,
   "id": "4fedf1b4",
   "metadata": {},
   "outputs": [],
   "source": [
    "# create a dataframe with 1 set of doors\n",
    "df = fill_doors(n)\n",
    "\n",
    "# loop over the sample size and fill a set of doors for each sample\n",
    "for i in np.arange(0, N):\n",
    "\n",
    "    # fill the new doors\n",
    "    doors = fill_doors(n)\n",
    "    \n",
    "    # append the set of doors to the dataframe\n",
    "    df = pd.concat([df, doors]).reset_index(drop=True)\n"
   ]
  },
  {
   "cell_type": "markdown",
   "id": "d8e21111",
   "metadata": {},
   "source": [
    "#### ii. First pick\n",
    "\n",
    "Randomly pick the first door that you open for each simulation."
   ]
  },
  {
   "cell_type": "code",
   "execution_count": 4,
   "id": "a1412936",
   "metadata": {},
   "outputs": [],
   "source": [
    "# pick your first door randomly\n",
    "df[\"first_door\"] = df.apply(lambda row: random.choice(list(doorlist)), axis=1)\n",
    "\n",
    "# determine what prize was behind that first door\n",
    "df[\"first_choice\"] = df.apply(lambda row: row[row[\"first_door\"]], axis=1)"
   ]
  },
  {
   "cell_type": "markdown",
   "id": "21a2563f",
   "metadata": {},
   "source": [
    "#### iii. Door reveal\n",
    "Monty Hall reveals what is behind one of the two doors you did not pick."
   ]
  },
  {
   "cell_type": "code",
   "execution_count": 5,
   "id": "28acc74a",
   "metadata": {},
   "outputs": [],
   "source": [
    "# identify which door will be revealed, based on your first choice\n",
    "df[\"door_revealed\"] = df.apply(lambda row: door_reveal(row, doorlist), axis=1)"
   ]
  },
  {
   "cell_type": "markdown",
   "id": "8cdf78ee",
   "metadata": {},
   "source": [
    "### Part 2a: Classic Monty Hall set-up"
   ]
  },
  {
   "cell_type": "markdown",
   "id": "f0f3e23e",
   "metadata": {},
   "source": [
    "#### iv. Switch or stay\n",
    "Randomly choose to switch or stay."
   ]
  },
  {
   "cell_type": "code",
   "execution_count": 6,
   "id": "62639917",
   "metadata": {},
   "outputs": [],
   "source": [
    "# randomly choose switch or stay\n",
    "df[\"decision\"] = df.apply(lambda row: random.choice([\"switch\", \"stay\"]), axis=1)"
   ]
  },
  {
   "cell_type": "markdown",
   "id": "6df3621f",
   "metadata": {},
   "source": [
    "#### v. Determine the outcomes\n",
    "Determine what percent of the time you won by switching vs. staying."
   ]
  },
  {
   "cell_type": "code",
   "execution_count": 7,
   "id": "3231110e",
   "metadata": {},
   "outputs": [],
   "source": [
    "# determine the outcomes\n",
    "df[\"outcome\"] = df.apply(lambda row: identify_result(row), axis=1)\n",
    "\n",
    "# probability for switching\n",
    "switch_outcomes = Counter(df.loc[((df[\"decision\"]==\"switch\")), \"outcome\"])\n",
    "switch_win_p = switch_outcomes[\"win\"] / (switch_outcomes[\"win\"] + switch_outcomes[\"lose\"])\n",
    "switch_win_p = np.round(switch_win_p * 100, 1)\n",
    "\n",
    "# probability for staying\n",
    "stay_outcomes = Counter(df.loc[((df[\"decision\"]==\"stay\")), \"outcome\"])\n",
    "stay_win_p = stay_outcomes[\"win\"] / (stay_outcomes[\"win\"] + stay_outcomes[\"lose\"])\n",
    "stay_win_p = np.round(stay_win_p * 100, 2)\n"
   ]
  },
  {
   "cell_type": "markdown",
   "id": "d21970b5",
   "metadata": {},
   "source": [
    "##### Print the result"
   ]
  },
  {
   "cell_type": "code",
   "execution_count": 8,
   "id": "5ae07809",
   "metadata": {},
   "outputs": [
    {
     "name": "stdout",
     "output_type": "stream",
     "text": [
      "1000 iterations: switching won 67.2%, staying won 32.55%.\n"
     ]
    }
   ],
   "source": [
    "print(f\"{N} iterations: switching won {switch_win_p}%, staying won {stay_win_p}%.\")"
   ]
  },
  {
   "cell_type": "markdown",
   "id": "1f5adc5e",
   "metadata": {},
   "source": [
    "### Part 2b: Randomize the door choice (Alternative method)"
   ]
  },
  {
   "cell_type": "markdown",
   "id": "50e2ce2c",
   "metadata": {},
   "source": [
    "#### iv. Randomly pick a door\n",
    "After the reveal, the 2 remainig doors have been randomized such that you lose all prior information you had from your first choice. Now, you simply randomly select from the two remaining doors."
   ]
  },
  {
   "cell_type": "code",
   "execution_count": 9,
   "id": "6a206811",
   "metadata": {},
   "outputs": [],
   "source": [
    "# make the random choice\n",
    "df[\"random_choice\"] = df[\"door_revealed\"].apply(lambda x: random_choice(x, doorlist))"
   ]
  },
  {
   "cell_type": "markdown",
   "id": "8a81b61f",
   "metadata": {},
   "source": [
    "#### v. Determine the outcomes"
   ]
  },
  {
   "cell_type": "code",
   "execution_count": 10,
   "id": "e6338fd3",
   "metadata": {},
   "outputs": [],
   "source": [
    "# determine the winner\n",
    "df[\"rc_outcome\"] = df.apply(lambda row: row[row[\"random_choice\"]], axis=1)\n",
    "df[\"rc_outcome\"] = df[\"rc_outcome\"].replace({\"g\": \"lose\", \"c\": \"win\"})\n",
    "\n",
    "# probabilities\n",
    "rc_outcomes = Counter(df[\"rc_outcome\"])\n",
    "rc_win_p = rc_outcomes[\"win\"] / (rc_outcomes[\"win\"] + rc_outcomes[\"lose\"])\n",
    "rc_win_p = np.round(rc_win_p * 100, 2)"
   ]
  },
  {
   "cell_type": "markdown",
   "id": "659eea3e",
   "metadata": {},
   "source": [
    "##### Print the result"
   ]
  },
  {
   "cell_type": "code",
   "execution_count": 11,
   "id": "f0cb55f6",
   "metadata": {},
   "outputs": [
    {
     "name": "stdout",
     "output_type": "stream",
     "text": [
      "1000 iterations: random choice gives you a win 50.75%.\n"
     ]
    }
   ],
   "source": [
    "print(f\"{N} iterations: random choice gives you a win {rc_win_p}%.\")"
   ]
  },
  {
   "cell_type": "code",
   "execution_count": null,
   "id": "7e5c5f87",
   "metadata": {},
   "outputs": [],
   "source": []
  }
 ],
 "metadata": {
  "kernelspec": {
   "display_name": "Python 3 (ipykernel)",
   "language": "python",
   "name": "python3"
  },
  "language_info": {
   "codemirror_mode": {
    "name": "ipython",
    "version": 3
   },
   "file_extension": ".py",
   "mimetype": "text/x-python",
   "name": "python",
   "nbconvert_exporter": "python",
   "pygments_lexer": "ipython3",
   "version": "3.9.7"
  }
 },
 "nbformat": 4,
 "nbformat_minor": 5
}
